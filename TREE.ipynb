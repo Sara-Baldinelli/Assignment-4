{
 "cells": [
  {
   "cell_type": "markdown",
   "id": "cbe0cbd4",
   "metadata": {},
   "source": [
    "# Completing a Tree\n",
    "### Sara Baldinelli, 1928738"
   ]
  },
  {
   "cell_type": "code",
   "execution_count": 1,
   "id": "306b0047",
   "metadata": {},
   "outputs": [],
   "source": [
    "with open('rosalind_tree.txt', 'r') as f:\n",
    "    f = f.readlines()\n",
    "    n = int(f[0])\n",
    "    adjacency_lst = f[1:]"
   ]
  },
  {
   "cell_type": "code",
   "execution_count": 2,
   "id": "d01c88c6",
   "metadata": {},
   "outputs": [],
   "source": [
    "def TREE(n, adjacency_lst):\n",
    "    print(n - len(adjacency_lst) - 1)"
   ]
  },
  {
   "cell_type": "code",
   "execution_count": 3,
   "id": "1679703a",
   "metadata": {},
   "outputs": [
    {
     "name": "stdout",
     "output_type": "stream",
     "text": [
      "91\n"
     ]
    }
   ],
   "source": [
    "TREE(n, adjacency_lst)"
   ]
  }
 ],
 "metadata": {
  "kernelspec": {
   "display_name": "Python 3",
   "language": "python",
   "name": "python3"
  },
  "language_info": {
   "codemirror_mode": {
    "name": "ipython",
    "version": 3
   },
   "file_extension": ".py",
   "mimetype": "text/x-python",
   "name": "python",
   "nbconvert_exporter": "python",
   "pygments_lexer": "ipython3",
   "version": "3.8.8"
  }
 },
 "nbformat": 4,
 "nbformat_minor": 5
}
