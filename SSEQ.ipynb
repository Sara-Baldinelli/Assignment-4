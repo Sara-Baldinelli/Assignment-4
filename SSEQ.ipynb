{
 "cells": [
  {
   "cell_type": "markdown",
   "id": "a51641ba",
   "metadata": {},
   "source": [
    "# Finding a Spliced Motif\n",
    "### Sara Baldinelli, 1928738"
   ]
  },
  {
   "cell_type": "code",
   "execution_count": 1,
   "id": "b7a96111",
   "metadata": {},
   "outputs": [],
   "source": [
    "from Bio import SeqIO"
   ]
  },
  {
   "cell_type": "code",
   "execution_count": 2,
   "id": "0a664214",
   "metadata": {},
   "outputs": [],
   "source": [
    "file = list(SeqIO.parse(\"rosalind_sseq.txt\", \"fasta\"))\n",
    "s = file[0].seq\n",
    "t = file[1].seq"
   ]
  },
  {
   "cell_type": "code",
   "execution_count": 3,
   "id": "e90c0b54",
   "metadata": {},
   "outputs": [],
   "source": [
    "def SSEQ(s, t):\n",
    "    coll = 0\n",
    "    for i in t:\n",
    "        j = s.find(i, coll)\n",
    "        print(j + 1, end = ' ')\n",
    "        coll = j+1"
   ]
  },
  {
   "cell_type": "code",
   "execution_count": 4,
   "id": "d33a133d",
   "metadata": {},
   "outputs": [
    {
     "name": "stdout",
     "output_type": "stream",
     "text": [
      "1 2 4 6 11 16 20 22 24 26 33 34 47 49 52 62 63 64 70 71 82 83 84 86 93 99 102 107 110 114 117 118 120 122 123 128 131 133 150 153 159 166 168 169 180 182 183 195 196 202 214 219 220 223 226 230 234 235 246 248 250 251 252 261 268 274 276 279 285 289 297 298 299 303 305 310 322 323 324 325 331 333 334 336 "
     ]
    }
   ],
   "source": [
    "SSEQ(s, t)"
   ]
  }
 ],
 "metadata": {
  "kernelspec": {
   "display_name": "Python 3",
   "language": "python",
   "name": "python3"
  },
  "language_info": {
   "codemirror_mode": {
    "name": "ipython",
    "version": 3
   },
   "file_extension": ".py",
   "mimetype": "text/x-python",
   "name": "python",
   "nbconvert_exporter": "python",
   "pygments_lexer": "ipython3",
   "version": "3.8.8"
  }
 },
 "nbformat": 4,
 "nbformat_minor": 5
}
