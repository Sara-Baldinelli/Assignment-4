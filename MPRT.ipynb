{
 "cells": [
  {
   "cell_type": "markdown",
   "id": "bf804b15",
   "metadata": {},
   "source": [
    "# Finding a Protein Motif\n",
    "### Sara Baldinelli, 1928738"
   ]
  },
  {
   "cell_type": "code",
   "execution_count": 1,
   "id": "856c955c",
   "metadata": {},
   "outputs": [],
   "source": [
    "with open('rosalind_mprt.txt', encoding='utf-8') as dataset:\n",
    "    names = [ name.rstrip() for name in dataset.readlines() ]\n",
    "    dataset.close()"
   ]
  },
  {
   "cell_type": "code",
   "execution_count": 2,
   "id": "c5d3e79e",
   "metadata": {},
   "outputs": [],
   "source": [
    "from urllib.request import urlopen\n",
    "from re import compile\n",
    "\n",
    "UNIPROT = 'http://www.uniprot.org/uniprot/id.fasta'\n",
    "N_glycosylation_motif = compile(r'(?<=(N[^P][ST]))[^P]')\n"
   ]
  },
  {
   "cell_type": "code",
   "execution_count": 3,
   "id": "60313c57",
   "metadata": {},
   "outputs": [],
   "source": [
    "def uniprot_ID(name):\n",
    "    url = UNIPROT.replace('id', name)\n",
    "    fasta = urlopen(url)\n",
    "    seq = ''.join([str(line, 'utf8').rstrip() for line in fasta.readlines()[1:]])\n",
    "    return name, seq"
   ]
  },
  {
   "cell_type": "code",
   "execution_count": 4,
   "id": "1bad3cc5",
   "metadata": {},
   "outputs": [],
   "source": [
    "def glycosylation(names):\n",
    "    sequences = []\n",
    "    for name in names:\n",
    "        sequences.append(uniprot_ID(name))\n",
    "\n",
    "    result = []\n",
    "    for sequence in sequences:\n",
    "        positions = []\n",
    "        for match in N_glycosylation_motif.finditer(sequence[1]):\n",
    "            positions.append(match.start() - 2)\n",
    "\n",
    "        if len(positions) != 0:\n",
    "            result.append((sequence[0], positions))\n",
    "\n",
    "    return result"
   ]
  },
  {
   "cell_type": "code",
   "execution_count": 5,
   "id": "eba517ba",
   "metadata": {},
   "outputs": [],
   "source": [
    "def MPRT():\n",
    "    for sequence in glycosylation(names):\n",
    "        print(sequence[0])\n",
    "        print(*sequence[1], sep=' ')"
   ]
  },
  {
   "cell_type": "code",
   "execution_count": 6,
   "id": "9dee2061",
   "metadata": {},
   "outputs": [
    {
     "name": "stdout",
     "output_type": "stream",
     "text": [
      "O08537_ESR2_MOUSE\n",
      "17 55 407\n",
      "P01042_KNH_HUMAN\n",
      "48 169 205 294\n",
      "P31096_OSTP_BOVIN\n",
      "101 209\n",
      "Q14ID0\n",
      "49\n",
      "Q8LCP6\n",
      "259 464 484\n",
      "P07204_TRBM_HUMAN\n",
      "47 115 116 382 409\n",
      "P11279_LMP1_HUMAN\n",
      "37 45 62 76 84 103 107 121 130 165 181 223 228 241 249 261 293 322\n",
      "P20268\n",
      "26 126 268\n",
      "Q03745\n",
      "272 438 506 509 550 1043 1096\n",
      "P01588_EPO_HUMAN\n",
      "51 65 110\n",
      "P13838_LEUK_RAT\n",
      "274 300\n",
      "P10646_TFPI_HUMAN\n",
      "145 195 256\n"
     ]
    }
   ],
   "source": [
    "MPRT()"
   ]
  }
 ],
 "metadata": {
  "kernelspec": {
   "display_name": "Python 3",
   "language": "python",
   "name": "python3"
  },
  "language_info": {
   "codemirror_mode": {
    "name": "ipython",
    "version": 3
   },
   "file_extension": ".py",
   "mimetype": "text/x-python",
   "name": "python",
   "nbconvert_exporter": "python",
   "pygments_lexer": "ipython3",
   "version": "3.8.8"
  }
 },
 "nbformat": 4,
 "nbformat_minor": 5
}
