{
 "cells": [
  {
   "cell_type": "markdown",
   "id": "fcd410cb",
   "metadata": {},
   "source": [
    "# Open Reading Frames\n",
    "### Sara Baldinelli, 1928738"
   ]
  },
  {
   "cell_type": "code",
   "execution_count": 1,
   "id": "0ba8c796",
   "metadata": {},
   "outputs": [],
   "source": [
    "from Bio import SeqIO\n",
    "from Bio.Seq import Seq\n",
    "stop_codons = [\"TGA\", \"TAG\", \"TAA\"]"
   ]
  },
  {
   "cell_type": "code",
   "execution_count": 2,
   "id": "443f32e5",
   "metadata": {},
   "outputs": [],
   "source": [
    "record = list(SeqIO.parse(\"rosalind_orf.txt\", \"fasta\"))[0]\n",
    "s = record.seq\n",
    "cs = Seq.reverse_complement(record.seq)"
   ]
  },
  {
   "cell_type": "code",
   "execution_count": 3,
   "id": "4871542d",
   "metadata": {},
   "outputs": [],
   "source": [
    "def orf(s, cs):\n",
    "    prots = []\n",
    "    while 'ATG' in s:\n",
    "        s = s[s.find('ATG'):]\n",
    "        for stop in stop_codons:\n",
    "            for j in range(0, len(s), 3):\n",
    "                    if s[j:j+3] == stop:\n",
    "                        orf = s[:j]\n",
    "                        prots.append(orf.translate(to_stop = True))\n",
    "        s = s[1:]\n",
    "    while 'ATG' in cs:\n",
    "        cs = cs[cs.find('ATG'):]\n",
    "        for stop in stop_codons:\n",
    "            for j in range(0, len(cs), 3):\n",
    "                    if cs[j:j+3] == stop:\n",
    "                        orf = cs[:j]\n",
    "                        prots.append(orf.translate(to_stop = True))\n",
    "        cs = cs[1:]\n",
    "    for p in set(prots):\n",
    "        print(p)"
   ]
  },
  {
   "cell_type": "code",
   "execution_count": 4,
   "id": "25fc44bf",
   "metadata": {},
   "outputs": [
    {
     "name": "stdout",
     "output_type": "stream",
     "text": [
      "MGTSP\n",
      "MKSNMRTHW\n",
      "MVDQQDQSRVCG\n",
      "MAELDE\n",
      "MPQK\n",
      "MRMPTEPTPTLSLVYGGPTRPIAGVRLTPKTGNKSSPRRRRSKTVTSAASHFSLSMRIAGGNR\n",
      "MAFNSPRLGNVCIGARCL\n",
      "M\n",
      "MKPLHFHENAYRTNTHTVTSLWWTNKTNRGCAVDTQDG\n",
      "MKCLVSELSSLTPYGRLRGELCLAS\n",
      "MTVG\n",
      "MKGLHI\n",
      "MHSTSSRAYERNEDSSRVFFTTLIDSVLQYIHCLIADC\n",
      "MNSTQPF\n",
      "MLASVHPSERAA\n",
      "MRTHW\n",
      "MRIAGGNR\n",
      "MAVSEESFVSPLRGYVPVPD\n",
      "MLDFIYHGRYLLPPAILMDKLKCDAAEVTVLLLLLRGLDLLPVLGVNRTPAIGLVGPP\n",
      "MRCRRSDSFTSPSTGARFVTRLGCQPHTRDWSCWSTID\n",
      "MTLI\n",
      "MPTEPTPTLSLVYGGPTRPIAGVRLTPKTGNKSSPRRRRSKTVTSAASHFSLSMRIAGGNR\n",
      "MYWSTLSIRVVKKTLELSSFLS\n",
      "MLH\n",
      "MLFYSSPPGGLSITSGCACWTSFTTAVIYCHLLSSWIN\n",
      "MDKLKCDAAEVTVLLLLLRGLDLLPVLGVNRTPAIGLVGPP\n",
      "MKGTRTAREFSSPPL\n",
      "MSLNVTFYLK\n",
      "MYFSVDISIGYRHVAPKRRDKALLGDGHKA\n",
      "MMLFYSSPPGGLSITSGCACWTSFTTAVIYCHLLSSWIN\n",
      "MYVLEHAVYKGGEENSRAVLVPFISA\n",
      "MVVTVLLWPS\n",
      "MKMKGLHI\n"
     ]
    }
   ],
   "source": [
    "orf(s, cs)"
   ]
  }
 ],
 "metadata": {
  "kernelspec": {
   "display_name": "Python 3",
   "language": "python",
   "name": "python3"
  },
  "language_info": {
   "codemirror_mode": {
    "name": "ipython",
    "version": 3
   },
   "file_extension": ".py",
   "mimetype": "text/x-python",
   "name": "python",
   "nbconvert_exporter": "python",
   "pygments_lexer": "ipython3",
   "version": "3.8.8"
  }
 },
 "nbformat": 4,
 "nbformat_minor": 5
}
