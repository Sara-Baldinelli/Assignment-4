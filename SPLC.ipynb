{
 "cells": [
  {
   "cell_type": "markdown",
   "id": "50eb6448",
   "metadata": {},
   "source": [
    "# RNA Splicing\n",
    "### Sara Baldinelli, 1928738"
   ]
  },
  {
   "cell_type": "code",
   "execution_count": 1,
   "id": "5cd64f6f",
   "metadata": {},
   "outputs": [],
   "source": [
    "from Bio.Seq import Seq"
   ]
  },
  {
   "cell_type": "code",
   "execution_count": 2,
   "id": "e0fd8abe",
   "metadata": {
    "scrolled": true
   },
   "outputs": [],
   "source": [
    "with open('rosalind_splc.txt', 'r') as f:\n",
    "    introns = []\n",
    "    f = f.read().split('>')[1:]\n",
    "    s = str(f[0]).split('\\n', 1)[1].replace('\\n', '')\n",
    "    for i in range(1, len(f)):\n",
    "        intron = f[i].split('\\n', 1)[1].replace('\\n', '')\n",
    "        introns.append(intron)"
   ]
  },
  {
   "cell_type": "code",
   "execution_count": 3,
   "id": "3c667ee6",
   "metadata": {},
   "outputs": [],
   "source": [
    "def SPLC(s, introns):\n",
    "    for intron in introns:\n",
    "        s = s.replace(intron, '')\n",
    "    dna = Seq(s)\n",
    "    prot = dna.translate(to_stop = True)\n",
    "    print(prot)\n"
   ]
  },
  {
   "cell_type": "code",
   "execution_count": 4,
   "id": "f4fb6a99",
   "metadata": {},
   "outputs": [
    {
     "name": "stdout",
     "output_type": "stream",
     "text": [
      "MSFSRLLFLLPLFALHEFLRVVTGQTSLSQLAESFQFFSTWHRGFETVPLYFGLNAGREIASGRSFSVFSIVIRFRSKHNSARPNSLAGPARGIPPLTSLSTPTFMNVFPRYLIRTNYDLEGITKRRYDRVPIVPPVFMPPTLKSSTLYGSGPSIVPQTADRLYRGPPYAVRFSVGPCLAPHLLR\n"
     ]
    }
   ],
   "source": [
    "SPLC(s, introns)"
   ]
  }
 ],
 "metadata": {
  "kernelspec": {
   "display_name": "Python 3",
   "language": "python",
   "name": "python3"
  },
  "language_info": {
   "codemirror_mode": {
    "name": "ipython",
    "version": 3
   },
   "file_extension": ".py",
   "mimetype": "text/x-python",
   "name": "python",
   "nbconvert_exporter": "python",
   "pygments_lexer": "ipython3",
   "version": "3.8.8"
  }
 },
 "nbformat": 4,
 "nbformat_minor": 5
}
