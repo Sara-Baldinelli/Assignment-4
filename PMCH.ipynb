{
 "cells": [
  {
   "cell_type": "markdown",
   "id": "684ef6b1",
   "metadata": {},
   "source": [
    "# Perfect Matchings and RNA Secondary Structures\n",
    "### Sara Baldinelli, 1928738"
   ]
  },
  {
   "cell_type": "code",
   "execution_count": 1,
   "id": "52b9669f",
   "metadata": {},
   "outputs": [],
   "source": [
    "import math"
   ]
  },
  {
   "cell_type": "code",
   "execution_count": 2,
   "id": "bc280c9d",
   "metadata": {},
   "outputs": [],
   "source": [
    "file = open(\"rosalind_pmch.txt\", \"r\")\n",
    "lines = file.readlines()\n",
    "file.close()\n",
    "seq = ''\n",
    "for line in lines:\n",
    "    if line[0] != '>':\n",
    "        seq += line.replace('\\n', '')"
   ]
  },
  {
   "cell_type": "code",
   "execution_count": 3,
   "id": "e97eed0d",
   "metadata": {},
   "outputs": [],
   "source": [
    "def PMCH():\n",
    "    A_U = 0\n",
    "    C_G = 0\n",
    "    for nucl in seq:\n",
    "        if nucl == 'A' or nucl == 'U':\n",
    "            A_U += 1\n",
    "        elif nucl == 'C' or nucl == 'G':\n",
    "            C_G += 1\n",
    "    AU_perf_match = math.factorial(A_U / 2)\n",
    "    CG_perf_match = math.factorial(C_G / 2)\n",
    "    print(AU_perf_match * CG_perf_match)\n",
    "    return"
   ]
  },
  {
   "cell_type": "code",
   "execution_count": 4,
   "id": "cbcaaf97",
   "metadata": {},
   "outputs": [
    {
     "name": "stdout",
     "output_type": "stream",
     "text": [
      "50903097535173096709816320000000\n"
     ]
    }
   ],
   "source": [
    "PMCH()"
   ]
  }
 ],
 "metadata": {
  "kernelspec": {
   "display_name": "Python 3",
   "language": "python",
   "name": "python3"
  },
  "language_info": {
   "codemirror_mode": {
    "name": "ipython",
    "version": 3
   },
   "file_extension": ".py",
   "mimetype": "text/x-python",
   "name": "python",
   "nbconvert_exporter": "python",
   "pygments_lexer": "ipython3",
   "version": "3.8.8"
  }
 },
 "nbformat": 4,
 "nbformat_minor": 5
}
