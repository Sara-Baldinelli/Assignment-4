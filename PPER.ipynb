{
 "cells": [
  {
   "cell_type": "markdown",
   "id": "7353ef09",
   "metadata": {},
   "source": [
    "# Partial Permutations\n",
    "### Sara Baldinelli, 1928738"
   ]
  },
  {
   "cell_type": "code",
   "execution_count": 1,
   "id": "a1caa236",
   "metadata": {},
   "outputs": [],
   "source": [
    "file = open(\"rosalind_pper.txt\", \"r\")\n",
    "f = file.readline().split(' ')\n",
    "file.close()\n",
    "n = int(f[0])\n",
    "k = int(f[1])"
   ]
  },
  {
   "cell_type": "code",
   "execution_count": 2,
   "id": "a03f7fbb",
   "metadata": {
    "scrolled": true
   },
   "outputs": [],
   "source": [
    "def PPER(n, k):\n",
    "    result = 1\n",
    "    for i in range(n, n - k, -1):\n",
    "        result = (result * i) % 1000000\n",
    "    return result"
   ]
  },
  {
   "cell_type": "code",
   "execution_count": 3,
   "id": "c1939cd6",
   "metadata": {},
   "outputs": [
    {
     "data": {
      "text/plain": [
       "184000"
      ]
     },
     "execution_count": 3,
     "metadata": {},
     "output_type": "execute_result"
    }
   ],
   "source": [
    "PPER(n, k)"
   ]
  }
 ],
 "metadata": {
  "kernelspec": {
   "display_name": "Python 3",
   "language": "python",
   "name": "python3"
  },
  "language_info": {
   "codemirror_mode": {
    "name": "ipython",
    "version": 3
   },
   "file_extension": ".py",
   "mimetype": "text/x-python",
   "name": "python",
   "nbconvert_exporter": "python",
   "pygments_lexer": "ipython3",
   "version": "3.8.8"
  }
 },
 "nbformat": 4,
 "nbformat_minor": 5
}
