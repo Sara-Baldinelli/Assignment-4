{
 "cells": [
  {
   "cell_type": "markdown",
   "id": "60ecbd39",
   "metadata": {},
   "source": [
    "# Transitions and Transversions\n",
    "### Sara Baldinelli, 1928738"
   ]
  },
  {
   "cell_type": "code",
   "execution_count": 1,
   "id": "54d2bcac",
   "metadata": {},
   "outputs": [],
   "source": [
    "with open('rosalind_tran.txt', 'r') as f:\n",
    "    f = f.read().split('>')[1:]\n",
    "    s1 = f[0].split('\\n', 1)[1].replace('\\n', '')\n",
    "    s2 = f[1].split('\\n', 1)[1].replace('\\n', '')"
   ]
  },
  {
   "cell_type": "code",
   "execution_count": 2,
   "id": "77697209",
   "metadata": {},
   "outputs": [],
   "source": [
    "transitions = [['A', 'G'], ['C', 'T']]\n",
    "transversions = [['A', 'C'], ['A', 'T'], ['C', 'G'], ['G', 'T']]"
   ]
  },
  {
   "cell_type": "code",
   "execution_count": 3,
   "id": "55ae5ba7",
   "metadata": {},
   "outputs": [],
   "source": [
    "def TRAN(s1, s2):\n",
    "    transit_count = 0\n",
    "    transver_count = 0\n",
    "    for i in range(len(s1)):\n",
    "        if s1[i] != s2[i]:\n",
    "            if sorted([s1[i], s2[i]]) in transitions:\n",
    "                transit_count += 1\n",
    "            elif sorted([s1[i], s2[i]]) in transversions:\n",
    "                transver_count += 1\n",
    "    return(transit_count/transver_count)"
   ]
  },
  {
   "cell_type": "code",
   "execution_count": 4,
   "id": "970ccd49",
   "metadata": {},
   "outputs": [
    {
     "data": {
      "text/plain": [
       "2.4767441860465116"
      ]
     },
     "execution_count": 4,
     "metadata": {},
     "output_type": "execute_result"
    }
   ],
   "source": [
    "TRAN(s1, s2)"
   ]
  }
 ],
 "metadata": {
  "kernelspec": {
   "display_name": "Python 3",
   "language": "python",
   "name": "python3"
  },
  "language_info": {
   "codemirror_mode": {
    "name": "ipython",
    "version": 3
   },
   "file_extension": ".py",
   "mimetype": "text/x-python",
   "name": "python",
   "nbconvert_exporter": "python",
   "pygments_lexer": "ipython3",
   "version": "3.8.8"
  }
 },
 "nbformat": 4,
 "nbformat_minor": 5
}
